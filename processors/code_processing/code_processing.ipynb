{
 "cells": [
  {
   "cell_type": "code",
   "execution_count": 6,
   "id": "7d34b599-1f71-4516-a2f2-18c7ff5f027d",
   "metadata": {},
   "outputs": [],
   "source": [
    "from bs4 import BeautifulSoup\n",
    "import json\n",
    "import pandas as pd"
   ]
  },
  {
   "cell_type": "code",
   "execution_count": 3,
   "id": "848c7ef4-2981-4658-a424-059584d448d8",
   "metadata": {},
   "outputs": [],
   "source": [
    "def read_code_document(filename: str):\n",
    "    code_htm_contents = \"\"\n",
    "    with open(filename, \"r\") as code_file:\n",
    "        code_htm_contents = code_file.read()\n",
    "    return code_htm_contents"
   ]
  },
  {
   "cell_type": "markdown",
   "id": "35031635-524f-463f-81a0-08ca45637546",
   "metadata": {},
   "source": [
    "# Reading the criminal process code \n",
    "The root format is htm. The goal is to read the file and then to reformat it into the JSON structure.\n",
    "Based on the extracted structure we would need to build AST for the document for further processing and search"
   ]
  },
  {
   "cell_type": "code",
   "execution_count": 7,
   "id": "7f017fe1-0af0-4a58-9fea-a2a99549abde",
   "metadata": {},
   "outputs": [],
   "source": [
    "CRIMINAL_PROCESS_CODE_PATH = \"codes/criminal_process_code.htm\""
   ]
  },
  {
   "cell_type": "code",
   "execution_count": 5,
   "id": "166f3e7f-60e8-423b-b532-f7506cc74603",
   "metadata": {},
   "outputs": [],
   "source": [
    "criminal_process_code_htm = read_code_document(CRIMINAL_PROCESS_CODE_PATH)\n",
    "criminal_process_code_soup = BeautifulSoup(criminal_process_code_htm, \"html.parser\")"
   ]
  },
  {
   "cell_type": "code",
   "execution_count": null,
   "id": "d96e4869-1228-4536-bfc7-3a0f216560ea",
   "metadata": {},
   "outputs": [],
   "source": [
    "criminal_process_code_soup"
   ]
  },
  {
   "cell_type": "code",
   "execution_count": null,
   "id": "c5205d1d-335b-493e-82e9-567edb45e2cd",
   "metadata": {},
   "outputs": [],
   "source": []
  }
 ],
 "metadata": {
  "kernelspec": {
   "display_name": "Python 3 (ipykernel)",
   "language": "python",
   "name": "python3"
  },
  "language_info": {
   "codemirror_mode": {
    "name": "ipython",
    "version": 3
   },
   "file_extension": ".py",
   "mimetype": "text/x-python",
   "name": "python",
   "nbconvert_exporter": "python",
   "pygments_lexer": "ipython3",
   "version": "3.12.10"
  }
 },
 "nbformat": 4,
 "nbformat_minor": 5
}
