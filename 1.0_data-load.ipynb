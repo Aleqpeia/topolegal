{
 "cells": [
  {
   "cell_type": "code",
   "execution_count": 3,
   "id": "6b3947db-d0d6-4371-819c-797191da08af",
   "metadata": {
    "tags": []
   },
   "outputs": [
    {
     "name": "stderr",
     "output_type": "stream",
     "text": [
      "2024-06-24 00:11:07.250809: I tensorflow/core/platform/cpu_feature_guard.cc:210] This TensorFlow binary is optimized to use available CPU instructions in performance-critical operations.\n",
      "To enable the following instructions: AVX2 FMA, in other operations, rebuild TensorFlow with the appropriate compiler flags.\n"
     ]
    }
   ],
   "source": [
    "import tensorflow as tf"
   ]
  },
  {
   "cell_type": "code",
   "execution_count": 4,
   "id": "b65a6271-7a19-4521-bb95-ba4993cea579",
   "metadata": {
    "tags": []
   },
   "outputs": [],
   "source": [
    "import csv\n",
    "import pickle\n",
    "import pandas as pd\n",
    "import numpy as np\n",
    "\n",
    "import torch\n",
    "from torch.utils.data import TensorDataset, DataLoader, RandomSampler, SequentialSampler\n",
    "from keras.preprocessing.sequence import pad_sequences\n",
    "\n",
    "import transformers\n",
    "from transformers import BertTokenizer, BertConfig\n",
    "from transformers import get_linear_schedule_with_warmup\n",
    "from transformers import BertForTokenClassification, AdamW\n",
    "\n",
    "from sklearn.model_selection import train_test_split\n",
    "from sklearn.metrics import multilabel_confusion_matrix\n",
    "from sklearn.metrics import accuracy_score, precision_score, recall_score, f1_score"
   ]
  },
  {
   "cell_type": "code",
   "execution_count": 5,
   "id": "bb199d1f-6b71-4655-bbae-cd0994ab22da",
   "metadata": {
    "tags": []
   },
   "outputs": [],
   "source": [
    "from google.cloud import storage"
   ]
  },
  {
   "cell_type": "code",
   "execution_count": 6,
   "id": "fa635679-65f3-4b5d-a6a3-a16cb898e8d2",
   "metadata": {
    "tags": []
   },
   "outputs": [
    {
     "data": {
      "text/plain": [
       "'2.3.1+cu121'"
      ]
     },
     "execution_count": 6,
     "metadata": {},
     "output_type": "execute_result"
    }
   ],
   "source": [
    "torch.__version__"
   ]
  },
  {
   "cell_type": "code",
   "execution_count": 7,
   "id": "54958ce9-ed0b-48cb-a079-deb109f90d7d",
   "metadata": {
    "tags": []
   },
   "outputs": [
    {
     "data": {
      "text/plain": [
       "'4.41.2'"
      ]
     },
     "execution_count": 7,
     "metadata": {},
     "output_type": "execute_result"
    }
   ],
   "source": [
    "transformers.__version__"
   ]
  },
  {
   "cell_type": "code",
   "execution_count": 8,
   "id": "7d8c863d-93c9-42cb-acd8-ed51c45bf435",
   "metadata": {},
   "outputs": [
    {
     "data": {
      "text/html": [
       "<div>\n",
       "<style scoped>\n",
       "    .dataframe tbody tr th:only-of-type {\n",
       "        vertical-align: middle;\n",
       "    }\n",
       "\n",
       "    .dataframe tbody tr th {\n",
       "        vertical-align: top;\n",
       "    }\n",
       "\n",
       "    .dataframe thead th {\n",
       "        text-align: right;\n",
       "    }\n",
       "</style>\n",
       "<table border=\"1\" class=\"dataframe\">\n",
       "  <thead>\n",
       "    <tr style=\"text-align: right;\">\n",
       "      <th></th>\n",
       "      <th>doc_id</th>\n",
       "      <th>court_code</th>\n",
       "      <th>judgment_code</th>\n",
       "      <th>justice_kind</th>\n",
       "      <th>category_code</th>\n",
       "      <th>cause_num</th>\n",
       "      <th>adjudication_date</th>\n",
       "      <th>receipt_date</th>\n",
       "      <th>judge</th>\n",
       "      <th>doc_url</th>\n",
       "      <th>status</th>\n",
       "      <th>date_publ</th>\n",
       "    </tr>\n",
       "  </thead>\n",
       "  <tbody>\n",
       "    <tr>\n",
       "      <th>0</th>\n",
       "      <td>102383845</td>\n",
       "      <td>503</td>\n",
       "      <td>5</td>\n",
       "      <td>2</td>\n",
       "      <td>40467.0</td>\n",
       "      <td>219/14855/21</td>\n",
       "      <td>2021-12-30 00:00:00+02</td>\n",
       "      <td>2022-01-02 00:00:00+02</td>\n",
       "      <td>Медінцева Н. М.</td>\n",
       "      <td>NaN</td>\n",
       "      <td>0</td>\n",
       "      <td>2022-01-02 00:00:00+02</td>\n",
       "    </tr>\n",
       "    <tr>\n",
       "      <th>1</th>\n",
       "      <td>102391042</td>\n",
       "      <td>4856</td>\n",
       "      <td>5</td>\n",
       "      <td>4</td>\n",
       "      <td>40105.0</td>\n",
       "      <td>560/6776/21</td>\n",
       "      <td>2021-12-29 00:00:00+02</td>\n",
       "      <td>2022-01-02 00:00:00+02</td>\n",
       "      <td>Матохнюк Д.Б.</td>\n",
       "      <td>http://od.reyestr.court.gov.ua/files/51/0c9097...</td>\n",
       "      <td>1</td>\n",
       "      <td>2022-01-04 00:00:00+02</td>\n",
       "    </tr>\n",
       "    <tr>\n",
       "      <th>2</th>\n",
       "      <td>102390645</td>\n",
       "      <td>4824</td>\n",
       "      <td>5</td>\n",
       "      <td>1</td>\n",
       "      <td>NaN</td>\n",
       "      <td>824/245/21</td>\n",
       "      <td>2021-12-22 00:00:00+02</td>\n",
       "      <td>2022-01-02 00:00:00+02</td>\n",
       "      <td>Нежура Вадим Анатолійович</td>\n",
       "      <td>http://od.reyestr.court.gov.ua/files/51/a53df6...</td>\n",
       "      <td>1</td>\n",
       "      <td>2022-01-04 00:00:00+02</td>\n",
       "    </tr>\n",
       "    <tr>\n",
       "      <th>3</th>\n",
       "      <td>102391822</td>\n",
       "      <td>2670</td>\n",
       "      <td>5</td>\n",
       "      <td>4</td>\n",
       "      <td>40114.0</td>\n",
       "      <td>640/4558/19</td>\n",
       "      <td>2021-11-02 00:00:00+02</td>\n",
       "      <td>2022-01-02 00:00:00+02</td>\n",
       "      <td>Клименчук Н.М.</td>\n",
       "      <td>http://od.reyestr.court.gov.ua/files/51/904bf7...</td>\n",
       "      <td>1</td>\n",
       "      <td>2022-01-04 00:00:00+02</td>\n",
       "    </tr>\n",
       "    <tr>\n",
       "      <th>4</th>\n",
       "      <td>102391796</td>\n",
       "      <td>2670</td>\n",
       "      <td>3</td>\n",
       "      <td>4</td>\n",
       "      <td>40110.0</td>\n",
       "      <td>640/10043/21</td>\n",
       "      <td>2021-12-07 00:00:00+02</td>\n",
       "      <td>2022-01-02 00:00:00+02</td>\n",
       "      <td>Клименчук Н.М.</td>\n",
       "      <td>http://od.reyestr.court.gov.ua/files/51/4c9376...</td>\n",
       "      <td>1</td>\n",
       "      <td>2022-01-04 00:00:00+02</td>\n",
       "    </tr>\n",
       "    <tr>\n",
       "      <th>5</th>\n",
       "      <td>102391789</td>\n",
       "      <td>2670</td>\n",
       "      <td>3</td>\n",
       "      <td>4</td>\n",
       "      <td>40110.0</td>\n",
       "      <td>640/18672/21</td>\n",
       "      <td>2021-12-01 00:00:00+02</td>\n",
       "      <td>2022-01-02 00:00:00+02</td>\n",
       "      <td>Клименчук Н.М.</td>\n",
       "      <td>http://od.reyestr.court.gov.ua/files/51/f1fc47...</td>\n",
       "      <td>1</td>\n",
       "      <td>2022-01-04 00:00:00+02</td>\n",
       "    </tr>\n",
       "    <tr>\n",
       "      <th>6</th>\n",
       "      <td>102391769</td>\n",
       "      <td>2670</td>\n",
       "      <td>3</td>\n",
       "      <td>4</td>\n",
       "      <td>40088.0</td>\n",
       "      <td>640/3619/19</td>\n",
       "      <td>2021-11-10 00:00:00+02</td>\n",
       "      <td>2022-01-02 00:00:00+02</td>\n",
       "      <td>Клименчук Н.М.</td>\n",
       "      <td>http://od.reyestr.court.gov.ua/files/51/98d4ee...</td>\n",
       "      <td>1</td>\n",
       "      <td>2022-01-04 00:00:00+02</td>\n",
       "    </tr>\n",
       "    <tr>\n",
       "      <th>7</th>\n",
       "      <td>102391764</td>\n",
       "      <td>2670</td>\n",
       "      <td>3</td>\n",
       "      <td>4</td>\n",
       "      <td>40114.0</td>\n",
       "      <td>640/4230/19</td>\n",
       "      <td>2021-11-05 00:00:00+02</td>\n",
       "      <td>2022-01-02 00:00:00+02</td>\n",
       "      <td>Клименчук Н.М.</td>\n",
       "      <td>http://od.reyestr.court.gov.ua/files/51/dbaa6e...</td>\n",
       "      <td>1</td>\n",
       "      <td>2022-01-04 00:00:00+02</td>\n",
       "    </tr>\n",
       "    <tr>\n",
       "      <th>8</th>\n",
       "      <td>102391757</td>\n",
       "      <td>2670</td>\n",
       "      <td>3</td>\n",
       "      <td>4</td>\n",
       "      <td>40077.0</td>\n",
       "      <td>640/1726/20</td>\n",
       "      <td>2021-11-02 00:00:00+02</td>\n",
       "      <td>2022-01-02 00:00:00+02</td>\n",
       "      <td>Клименчук Н.М.</td>\n",
       "      <td>http://od.reyestr.court.gov.ua/files/51/145f06...</td>\n",
       "      <td>1</td>\n",
       "      <td>2022-01-04 00:00:00+02</td>\n",
       "    </tr>\n",
       "    <tr>\n",
       "      <th>9</th>\n",
       "      <td>102388442</td>\n",
       "      <td>1570</td>\n",
       "      <td>3</td>\n",
       "      <td>4</td>\n",
       "      <td>40074.0</td>\n",
       "      <td>420/20761/21</td>\n",
       "      <td>2021-12-30 00:00:00+02</td>\n",
       "      <td>2022-01-02 00:00:00+02</td>\n",
       "      <td>Потоцька Н.В.</td>\n",
       "      <td>http://od.reyestr.court.gov.ua/files/51/5514da...</td>\n",
       "      <td>1</td>\n",
       "      <td>2022-01-04 00:00:00+02</td>\n",
       "    </tr>\n",
       "  </tbody>\n",
       "</table>\n",
       "</div>"
      ],
      "text/plain": [
       "      doc_id  court_code  judgment_code  justice_kind  category_code  \\\n",
       "0  102383845         503              5             2        40467.0   \n",
       "1  102391042        4856              5             4        40105.0   \n",
       "2  102390645        4824              5             1            NaN   \n",
       "3  102391822        2670              5             4        40114.0   \n",
       "4  102391796        2670              3             4        40110.0   \n",
       "5  102391789        2670              3             4        40110.0   \n",
       "6  102391769        2670              3             4        40088.0   \n",
       "7  102391764        2670              3             4        40114.0   \n",
       "8  102391757        2670              3             4        40077.0   \n",
       "9  102388442        1570              3             4        40074.0   \n",
       "\n",
       "      cause_num       adjudication_date            receipt_date  \\\n",
       "0  219/14855/21  2021-12-30 00:00:00+02  2022-01-02 00:00:00+02   \n",
       "1   560/6776/21  2021-12-29 00:00:00+02  2022-01-02 00:00:00+02   \n",
       "2    824/245/21  2021-12-22 00:00:00+02  2022-01-02 00:00:00+02   \n",
       "3   640/4558/19  2021-11-02 00:00:00+02  2022-01-02 00:00:00+02   \n",
       "4  640/10043/21  2021-12-07 00:00:00+02  2022-01-02 00:00:00+02   \n",
       "5  640/18672/21  2021-12-01 00:00:00+02  2022-01-02 00:00:00+02   \n",
       "6   640/3619/19  2021-11-10 00:00:00+02  2022-01-02 00:00:00+02   \n",
       "7   640/4230/19  2021-11-05 00:00:00+02  2022-01-02 00:00:00+02   \n",
       "8   640/1726/20  2021-11-02 00:00:00+02  2022-01-02 00:00:00+02   \n",
       "9  420/20761/21  2021-12-30 00:00:00+02  2022-01-02 00:00:00+02   \n",
       "\n",
       "                       judge  \\\n",
       "0            Медінцева Н. М.   \n",
       "1              Матохнюк Д.Б.   \n",
       "2  Нежура Вадим Анатолійович   \n",
       "3             Клименчук Н.М.   \n",
       "4             Клименчук Н.М.   \n",
       "5             Клименчук Н.М.   \n",
       "6             Клименчук Н.М.   \n",
       "7             Клименчук Н.М.   \n",
       "8             Клименчук Н.М.   \n",
       "9              Потоцька Н.В.   \n",
       "\n",
       "                                             doc_url  status  \\\n",
       "0                                                NaN       0   \n",
       "1  http://od.reyestr.court.gov.ua/files/51/0c9097...       1   \n",
       "2  http://od.reyestr.court.gov.ua/files/51/a53df6...       1   \n",
       "3  http://od.reyestr.court.gov.ua/files/51/904bf7...       1   \n",
       "4  http://od.reyestr.court.gov.ua/files/51/4c9376...       1   \n",
       "5  http://od.reyestr.court.gov.ua/files/51/f1fc47...       1   \n",
       "6  http://od.reyestr.court.gov.ua/files/51/98d4ee...       1   \n",
       "7  http://od.reyestr.court.gov.ua/files/51/dbaa6e...       1   \n",
       "8  http://od.reyestr.court.gov.ua/files/51/145f06...       1   \n",
       "9  http://od.reyestr.court.gov.ua/files/51/5514da...       1   \n",
       "\n",
       "                date_publ  \n",
       "0  2022-01-02 00:00:00+02  \n",
       "1  2022-01-04 00:00:00+02  \n",
       "2  2022-01-04 00:00:00+02  \n",
       "3  2022-01-04 00:00:00+02  \n",
       "4  2022-01-04 00:00:00+02  \n",
       "5  2022-01-04 00:00:00+02  \n",
       "6  2022-01-04 00:00:00+02  \n",
       "7  2022-01-04 00:00:00+02  \n",
       "8  2022-01-04 00:00:00+02  \n",
       "9  2022-01-04 00:00:00+02  "
      ]
     },
     "execution_count": 8,
     "metadata": {},
     "output_type": "execute_result"
    }
   ],
   "source": [
    "document_data = pd.read_csv(\"court_data/court_data_2022/documents.csv\", sep=\"\t\") #.fillna(method=\"ffill\")\n",
    "document_data.head(10)"
   ]
  },
  {
   "cell_type": "code",
   "execution_count": 9,
   "id": "cbc51083-009c-4b45-832d-e82b46125178",
   "metadata": {
    "tags": []
   },
   "outputs": [
    {
     "data": {
      "text/plain": [
       "(5822649, 12)"
      ]
     },
     "execution_count": 9,
     "metadata": {},
     "output_type": "execute_result"
    }
   ],
   "source": [
    "document_data.shape"
   ]
  },
  {
   "cell_type": "code",
   "execution_count": 10,
   "id": "259df0de-3908-4a36-860f-d26fae2a2d8d",
   "metadata": {},
   "outputs": [],
   "source": [
    "import requests"
   ]
  },
  {
   "cell_type": "code",
   "execution_count": 11,
   "id": "12c00f04-4847-49ca-ae76-f2cc6efa9e60",
   "metadata": {
    "tags": []
   },
   "outputs": [
    {
     "data": {
      "text/plain": [
       "array([nan,\n",
       "       'http://od.reyestr.court.gov.ua/files/51/0c9097fb28ccabfcd4db8d140fd667b7.rtf',\n",
       "       'http://od.reyestr.court.gov.ua/files/51/a53df6d681ad7a5921e67e15a6bce992.rtf',\n",
       "       ..., nan, nan, nan], dtype=object)"
      ]
     },
     "execution_count": 11,
     "metadata": {},
     "output_type": "execute_result"
    }
   ],
   "source": [
    "document_data[\"doc_url\"].to_numpy()"
   ]
  },
  {
   "cell_type": "code",
   "execution_count": 12,
   "id": "6e77ed1f-b9e1-4daa-8f50-b28d679ff15d",
   "metadata": {
    "tags": []
   },
   "outputs": [
    {
     "data": {
      "text/plain": [
       "'http://od.reyestr.court.gov.ua/files/51/0c9097fb28ccabfcd4db8d140fd667b7.rtf'"
      ]
     },
     "execution_count": 12,
     "metadata": {},
     "output_type": "execute_result"
    }
   ],
   "source": [
    "document_data[\"doc_url\"][1]"
   ]
  },
  {
   "cell_type": "code",
   "execution_count": 13,
   "id": "067f7e5b-717b-447b-89de-0be7da31fd5c",
   "metadata": {
    "tags": []
   },
   "outputs": [
    {
     "data": {
      "text/plain": [
       "<Response [200]>"
      ]
     },
     "execution_count": 13,
     "metadata": {},
     "output_type": "execute_result"
    }
   ],
   "source": [
    "requests.get(document_data[\"doc_url\"][1])"
   ]
  },
  {
   "cell_type": "markdown",
   "id": "26259dc5-04e6-4820-aae1-8872528be05a",
   "metadata": {},
   "source": [
    "### Uploading data to Cloud Storage"
   ]
  },
  {
   "cell_type": "code",
   "execution_count": 14,
   "id": "36a49bd5-8571-4863-911b-27a2052aa53e",
   "metadata": {
    "tags": []
   },
   "outputs": [],
   "source": [
    "SUBFOLDER = \"data_1m_rtf/\""
   ]
  },
  {
   "cell_type": "code",
   "execution_count": 15,
   "id": "11cd3c4a-5840-4b52-92f6-e4f552a7642d",
   "metadata": {
    "tags": []
   },
   "outputs": [],
   "source": [
    "storage_client = storage.Client()\n",
    "bucket = storage_client.bucket(\"court_data_bert\")"
   ]
  },
  {
   "cell_type": "code",
   "execution_count": 16,
   "id": "e2a341e9-262a-4776-aecd-0cb133faa2a5",
   "metadata": {},
   "outputs": [],
   "source": [
    "def download_court_file(url: str, doc_id: str):\n",
    "    rtf_court_raw_filename = url.split(\"/\")[-1]\n",
    "    result_filename = SUBFOLDER + str(doc_id) + \"_\" + rtf_court_raw_filename\n",
    "    blob = bucket.blob(result_filename)\n",
    "    \n",
    "    response = requests.get(url)\n",
    "    response.raise_for_status()\n",
    "    \n",
    "    blob.upload_from_string(response.content, content_type=response.headers.get('content-type'))"
   ]
  },
  {
   "cell_type": "markdown",
   "id": "afc7e975-9526-4a6a-ae82-5b5e95dfe57f",
   "metadata": {},
   "source": [
    "#### Uploading 50 instances"
   ]
  },
  {
   "cell_type": "code",
   "execution_count": 17,
   "id": "1960c30f-25c5-4e54-905a-9026c906fe91",
   "metadata": {
    "tags": []
   },
   "outputs": [
    {
     "data": {
      "text/html": [
       "<div>\n",
       "<style scoped>\n",
       "    .dataframe tbody tr th:only-of-type {\n",
       "        vertical-align: middle;\n",
       "    }\n",
       "\n",
       "    .dataframe tbody tr th {\n",
       "        vertical-align: top;\n",
       "    }\n",
       "\n",
       "    .dataframe thead th {\n",
       "        text-align: right;\n",
       "    }\n",
       "</style>\n",
       "<table border=\"1\" class=\"dataframe\">\n",
       "  <thead>\n",
       "    <tr style=\"text-align: right;\">\n",
       "      <th></th>\n",
       "      <th>doc_id</th>\n",
       "      <th>court_code</th>\n",
       "      <th>judgment_code</th>\n",
       "      <th>justice_kind</th>\n",
       "      <th>category_code</th>\n",
       "      <th>cause_num</th>\n",
       "      <th>adjudication_date</th>\n",
       "      <th>receipt_date</th>\n",
       "      <th>judge</th>\n",
       "      <th>doc_url</th>\n",
       "      <th>status</th>\n",
       "      <th>date_publ</th>\n",
       "    </tr>\n",
       "  </thead>\n",
       "  <tbody>\n",
       "    <tr>\n",
       "      <th>0</th>\n",
       "      <td>102383845</td>\n",
       "      <td>503</td>\n",
       "      <td>5</td>\n",
       "      <td>2</td>\n",
       "      <td>40467.0</td>\n",
       "      <td>219/14855/21</td>\n",
       "      <td>2021-12-30 00:00:00+02</td>\n",
       "      <td>2022-01-02 00:00:00+02</td>\n",
       "      <td>Медінцева Н. М.</td>\n",
       "      <td>NaN</td>\n",
       "      <td>0</td>\n",
       "      <td>2022-01-02 00:00:00+02</td>\n",
       "    </tr>\n",
       "    <tr>\n",
       "      <th>1</th>\n",
       "      <td>102391042</td>\n",
       "      <td>4856</td>\n",
       "      <td>5</td>\n",
       "      <td>4</td>\n",
       "      <td>40105.0</td>\n",
       "      <td>560/6776/21</td>\n",
       "      <td>2021-12-29 00:00:00+02</td>\n",
       "      <td>2022-01-02 00:00:00+02</td>\n",
       "      <td>Матохнюк Д.Б.</td>\n",
       "      <td>http://od.reyestr.court.gov.ua/files/51/0c9097...</td>\n",
       "      <td>1</td>\n",
       "      <td>2022-01-04 00:00:00+02</td>\n",
       "    </tr>\n",
       "    <tr>\n",
       "      <th>2</th>\n",
       "      <td>102390645</td>\n",
       "      <td>4824</td>\n",
       "      <td>5</td>\n",
       "      <td>1</td>\n",
       "      <td>NaN</td>\n",
       "      <td>824/245/21</td>\n",
       "      <td>2021-12-22 00:00:00+02</td>\n",
       "      <td>2022-01-02 00:00:00+02</td>\n",
       "      <td>Нежура Вадим Анатолійович</td>\n",
       "      <td>http://od.reyestr.court.gov.ua/files/51/a53df6...</td>\n",
       "      <td>1</td>\n",
       "      <td>2022-01-04 00:00:00+02</td>\n",
       "    </tr>\n",
       "    <tr>\n",
       "      <th>3</th>\n",
       "      <td>102391822</td>\n",
       "      <td>2670</td>\n",
       "      <td>5</td>\n",
       "      <td>4</td>\n",
       "      <td>40114.0</td>\n",
       "      <td>640/4558/19</td>\n",
       "      <td>2021-11-02 00:00:00+02</td>\n",
       "      <td>2022-01-02 00:00:00+02</td>\n",
       "      <td>Клименчук Н.М.</td>\n",
       "      <td>http://od.reyestr.court.gov.ua/files/51/904bf7...</td>\n",
       "      <td>1</td>\n",
       "      <td>2022-01-04 00:00:00+02</td>\n",
       "    </tr>\n",
       "    <tr>\n",
       "      <th>4</th>\n",
       "      <td>102391796</td>\n",
       "      <td>2670</td>\n",
       "      <td>3</td>\n",
       "      <td>4</td>\n",
       "      <td>40110.0</td>\n",
       "      <td>640/10043/21</td>\n",
       "      <td>2021-12-07 00:00:00+02</td>\n",
       "      <td>2022-01-02 00:00:00+02</td>\n",
       "      <td>Клименчук Н.М.</td>\n",
       "      <td>http://od.reyestr.court.gov.ua/files/51/4c9376...</td>\n",
       "      <td>1</td>\n",
       "      <td>2022-01-04 00:00:00+02</td>\n",
       "    </tr>\n",
       "    <tr>\n",
       "      <th>...</th>\n",
       "      <td>...</td>\n",
       "      <td>...</td>\n",
       "      <td>...</td>\n",
       "      <td>...</td>\n",
       "      <td>...</td>\n",
       "      <td>...</td>\n",
       "      <td>...</td>\n",
       "      <td>...</td>\n",
       "      <td>...</td>\n",
       "      <td>...</td>\n",
       "      <td>...</td>\n",
       "      <td>...</td>\n",
       "    </tr>\n",
       "    <tr>\n",
       "      <th>5822644</th>\n",
       "      <td>108198825</td>\n",
       "      <td>444</td>\n",
       "      <td>5</td>\n",
       "      <td>2</td>\n",
       "      <td>40469.0</td>\n",
       "      <td>216/1387/22</td>\n",
       "      <td>2022-12-26 00:00:00+02</td>\n",
       "      <td>2022-12-31 00:00:00+02</td>\n",
       "      <td>КУЗНЕЦОВ Р. О.</td>\n",
       "      <td>NaN</td>\n",
       "      <td>0</td>\n",
       "      <td>2024-04-22 00:00:00+03</td>\n",
       "    </tr>\n",
       "    <tr>\n",
       "      <th>5822645</th>\n",
       "      <td>108205032</td>\n",
       "      <td>1304</td>\n",
       "      <td>5</td>\n",
       "      <td>2</td>\n",
       "      <td>40469.0</td>\n",
       "      <td>461/7106/22</td>\n",
       "      <td>2022-12-29 00:00:00+02</td>\n",
       "      <td>2022-12-31 00:00:00+02</td>\n",
       "      <td>Стрельбицький В. В.</td>\n",
       "      <td>NaN</td>\n",
       "      <td>0</td>\n",
       "      <td>2024-04-22 00:00:00+03</td>\n",
       "    </tr>\n",
       "    <tr>\n",
       "      <th>5822646</th>\n",
       "      <td>108199852</td>\n",
       "      <td>2609</td>\n",
       "      <td>5</td>\n",
       "      <td>2</td>\n",
       "      <td>40469.0</td>\n",
       "      <td>760/18063/22</td>\n",
       "      <td>2022-12-08 00:00:00+02</td>\n",
       "      <td>2022-12-31 00:00:00+02</td>\n",
       "      <td>Криворот О. О.</td>\n",
       "      <td>NaN</td>\n",
       "      <td>0</td>\n",
       "      <td>2024-04-22 00:00:00+03</td>\n",
       "    </tr>\n",
       "    <tr>\n",
       "      <th>5822647</th>\n",
       "      <td>108199868</td>\n",
       "      <td>2609</td>\n",
       "      <td>5</td>\n",
       "      <td>2</td>\n",
       "      <td>40469.0</td>\n",
       "      <td>760/17205/22</td>\n",
       "      <td>2022-12-12 00:00:00+02</td>\n",
       "      <td>2022-12-31 00:00:00+02</td>\n",
       "      <td>Криворот О. О.</td>\n",
       "      <td>NaN</td>\n",
       "      <td>0</td>\n",
       "      <td>2024-04-22 00:00:00+03</td>\n",
       "    </tr>\n",
       "    <tr>\n",
       "      <th>5822648</th>\n",
       "      <td>108199872</td>\n",
       "      <td>2609</td>\n",
       "      <td>5</td>\n",
       "      <td>2</td>\n",
       "      <td>40469.0</td>\n",
       "      <td>760/18393/22</td>\n",
       "      <td>2022-12-23 00:00:00+02</td>\n",
       "      <td>2022-12-31 00:00:00+02</td>\n",
       "      <td>Криворот О. О.</td>\n",
       "      <td>NaN</td>\n",
       "      <td>0</td>\n",
       "      <td>2024-04-22 00:00:00+03</td>\n",
       "    </tr>\n",
       "  </tbody>\n",
       "</table>\n",
       "<p>5822649 rows × 12 columns</p>\n",
       "</div>"
      ],
      "text/plain": [
       "            doc_id  court_code  judgment_code  justice_kind  category_code  \\\n",
       "0        102383845         503              5             2        40467.0   \n",
       "1        102391042        4856              5             4        40105.0   \n",
       "2        102390645        4824              5             1            NaN   \n",
       "3        102391822        2670              5             4        40114.0   \n",
       "4        102391796        2670              3             4        40110.0   \n",
       "...            ...         ...            ...           ...            ...   \n",
       "5822644  108198825         444              5             2        40469.0   \n",
       "5822645  108205032        1304              5             2        40469.0   \n",
       "5822646  108199852        2609              5             2        40469.0   \n",
       "5822647  108199868        2609              5             2        40469.0   \n",
       "5822648  108199872        2609              5             2        40469.0   \n",
       "\n",
       "            cause_num       adjudication_date            receipt_date  \\\n",
       "0        219/14855/21  2021-12-30 00:00:00+02  2022-01-02 00:00:00+02   \n",
       "1         560/6776/21  2021-12-29 00:00:00+02  2022-01-02 00:00:00+02   \n",
       "2          824/245/21  2021-12-22 00:00:00+02  2022-01-02 00:00:00+02   \n",
       "3         640/4558/19  2021-11-02 00:00:00+02  2022-01-02 00:00:00+02   \n",
       "4        640/10043/21  2021-12-07 00:00:00+02  2022-01-02 00:00:00+02   \n",
       "...               ...                     ...                     ...   \n",
       "5822644   216/1387/22  2022-12-26 00:00:00+02  2022-12-31 00:00:00+02   \n",
       "5822645   461/7106/22  2022-12-29 00:00:00+02  2022-12-31 00:00:00+02   \n",
       "5822646  760/18063/22  2022-12-08 00:00:00+02  2022-12-31 00:00:00+02   \n",
       "5822647  760/17205/22  2022-12-12 00:00:00+02  2022-12-31 00:00:00+02   \n",
       "5822648  760/18393/22  2022-12-23 00:00:00+02  2022-12-31 00:00:00+02   \n",
       "\n",
       "                             judge  \\\n",
       "0                  Медінцева Н. М.   \n",
       "1                    Матохнюк Д.Б.   \n",
       "2        Нежура Вадим Анатолійович   \n",
       "3                   Клименчук Н.М.   \n",
       "4                   Клименчук Н.М.   \n",
       "...                            ...   \n",
       "5822644             КУЗНЕЦОВ Р. О.   \n",
       "5822645        Стрельбицький В. В.   \n",
       "5822646             Криворот О. О.   \n",
       "5822647             Криворот О. О.   \n",
       "5822648             Криворот О. О.   \n",
       "\n",
       "                                                   doc_url  status  \\\n",
       "0                                                      NaN       0   \n",
       "1        http://od.reyestr.court.gov.ua/files/51/0c9097...       1   \n",
       "2        http://od.reyestr.court.gov.ua/files/51/a53df6...       1   \n",
       "3        http://od.reyestr.court.gov.ua/files/51/904bf7...       1   \n",
       "4        http://od.reyestr.court.gov.ua/files/51/4c9376...       1   \n",
       "...                                                    ...     ...   \n",
       "5822644                                                NaN       0   \n",
       "5822645                                                NaN       0   \n",
       "5822646                                                NaN       0   \n",
       "5822647                                                NaN       0   \n",
       "5822648                                                NaN       0   \n",
       "\n",
       "                      date_publ  \n",
       "0        2022-01-02 00:00:00+02  \n",
       "1        2022-01-04 00:00:00+02  \n",
       "2        2022-01-04 00:00:00+02  \n",
       "3        2022-01-04 00:00:00+02  \n",
       "4        2022-01-04 00:00:00+02  \n",
       "...                         ...  \n",
       "5822644  2024-04-22 00:00:00+03  \n",
       "5822645  2024-04-22 00:00:00+03  \n",
       "5822646  2024-04-22 00:00:00+03  \n",
       "5822647  2024-04-22 00:00:00+03  \n",
       "5822648  2024-04-22 00:00:00+03  \n",
       "\n",
       "[5822649 rows x 12 columns]"
      ]
     },
     "execution_count": 17,
     "metadata": {},
     "output_type": "execute_result"
    }
   ],
   "source": [
    "document_data"
   ]
  },
  {
   "cell_type": "code",
   "execution_count": 20,
   "id": "434d4bff-09bf-45d1-9dab-5966b8c63f2b",
   "metadata": {
    "tags": []
   },
   "outputs": [],
   "source": [
    "counter = 0"
   ]
  },
  {
   "cell_type": "code",
   "execution_count": 23,
   "id": "f09b4916-c6c3-4b2a-8950-459f6abbce3b",
   "metadata": {
    "tags": []
   },
   "outputs": [
    {
     "name": "stdout",
     "output_type": "stream",
     "text": [
      "Processed -> 10000\n",
      "Unable to download court data ->  http://od.reyestr.court.gov.ua/files/51/5cf907d20721aeeb220e7d0d1165f61a.rtf 102437528\n",
      "Processed -> 11000\n",
      "Unable to download court data ->  http://od.reyestr.court.gov.ua/files/51/eec9fdf8ebe13e19faf406648d0b519c.rtf 102437523\n",
      "Unable to download court data ->  http://od.reyestr.court.gov.ua/files/51/d29987be9ffd5a39ec02e1a90b8fe4f2.rtf 102437520\n",
      "Unable to download court data ->  http://od.reyestr.court.gov.ua/files/51/8e5922d5c63d3d22741e983300f15712.rtf 102437518\n",
      "Processed -> 12000\n",
      "Processed -> 13000\n",
      "Unable to download court data ->  http://od.reyestr.court.gov.ua/files/51/2575037125b96fbc41a23418de678f78.rtf 102437519\n",
      "Processed -> 14000\n"
     ]
    }
   ],
   "source": [
    "for index, row in document_data.notna()[50000:55000].iterrows():\n",
    "    # print(\"Processing -> \", document_data[\"doc_url\"][index])\n",
    "    if counter % 1000 == 0:\n",
    "        print(f\"Processed -> {counter}\")\n",
    "    \n",
    "    # if document_data[\"doc_url\"][index].isna():\n",
    "    #     continue\n",
    "        \n",
    "    if pd.isna(document_data.at[index, \"doc_url\"]):\n",
    "        continue\n",
    "        \n",
    "    try:\n",
    "        download_court_file(\n",
    "            document_data[\"doc_url\"][index], \n",
    "            document_data[\"doc_id\"][index],\n",
    "        )\n",
    "    except:\n",
    "        print(\"Unable to download court data -> \", document_data[\"doc_url\"][index], document_data[\"doc_id\"][index])\n",
    "    \n",
    "    counter = counter + 1"
   ]
  },
  {
   "cell_type": "code",
   "execution_count": null,
   "id": "5adfb38c-1234-4404-8ebe-ab39994b7443",
   "metadata": {},
   "outputs": [],
   "source": []
  }
 ],
 "metadata": {
  "environment": {
   "kernel": "conda-base-py",
   "name": "workbench-notebooks.m121",
   "type": "gcloud",
   "uri": "us-docker.pkg.dev/deeplearning-platform-release/gcr.io/workbench-notebooks:m121"
  },
  "kernelspec": {
   "display_name": "Python 3 (ipykernel)",
   "language": "python",
   "name": "conda-base-py"
  },
  "language_info": {
   "codemirror_mode": {
    "name": "ipython",
    "version": 3
   },
   "file_extension": ".py",
   "mimetype": "text/x-python",
   "name": "python",
   "nbconvert_exporter": "python",
   "pygments_lexer": "ipython3",
   "version": "3.10.14"
  }
 },
 "nbformat": 4,
 "nbformat_minor": 5
}
